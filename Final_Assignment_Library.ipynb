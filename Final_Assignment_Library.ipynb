tiveclass.ai logo
Extracting Stock Data Using a Python Library
A company's stock share is a piece of the company more precisely:

A stock (also known as equity) is a security that represents the ownership of a fraction of a corporation. This entitles the owner of the stock to a proportion of the corporation's assets and profits equal to how much stock they own. Units of stock are called "shares." [1]

An investor can buy a stock and sell it later. If the stock price increases, the investor profits, If it decreases,the investor with incur a loss.  Determining the stock price is complex; it depends on the number of outstanding shares, the size of the company's future profits, and much more. People trade stocks throughout the day the stock ticker is a report of the price of a certain stock, updated continuously throughout the trading session by the various stock market exchanges.

You are a data scientist working for a hedge fund; it's your job to determine any suspicious stock activity. In this lab you will extract stock data using a Python library. We will use the yfinance library, it allows us to extract data for stocks returning data in a pandas dataframe. You will use the lab to extract.

Table of Contents
Using yfinance to Extract Stock Info
Using yfinance to Extract Historical Share Price Data
Using yfinance to Extract Historical Dividends Data
Exercise
Estimated Time Needed: 30 min

!pip install yfinance
#!pip install pandas
Requirement already satisfied: yfinance in /home/jupyterlab/conda/envs/python/lib/python3.6/site-packages (0.1.63)
Requirement already satisfied: requests>=2.20 in /home/jupyterlab/conda/envs/python/lib/python3.6/site-packages (from yfinance) (2.25.1)
Requirement already satisfied: lxml>=4.5.1 in /home/jupyterlab/conda/envs/python/lib/python3.6/site-packages (from yfinance) (4.6.3)
Requirement already satisfied: multitasking>=0.0.7 in /home/jupyterlab/conda/envs/python/lib/python3.6/site-packages (from yfinance) (0.0.9)
Requirement already satisfied: numpy>=1.15 in /home/jupyterlab/conda/envs/python/lib/python3.6/site-packages (from yfinance) (1.19.5)
Requirement already satisfied: pandas>=0.24 in /home/jupyterlab/conda/envs/python/lib/python3.6/site-packages (from yfinance) (1.1.5)
Requirement already satisfied: idna<3,>=2.5 in /home/jupyterlab/conda/envs/python/lib/python3.6/site-packages (from requests>=2.20->yfinance) (2.10)
Requirement already satisfied: urllib3<1.27,>=1.21.1 in /home/jupyterlab/conda/envs/python/lib/python3.6/site-packages (from requests>=2.20->yfinance) (1.26.6)
Requirement already satisfied: certifi>=2017.4.17 in /home/jupyterlab/conda/envs/python/lib/python3.6/site-packages (from requests>=2.20->yfinance) (2021.5.30)
Requirement already satisfied: chardet<5,>=3.0.2 in /home/jupyterlab/conda/envs/python/lib/python3.6/site-packages (from requests>=2.20->yfinance) (4.0.0)
Requirement already satisfied: python-dateutil>=2.7.3 in /home/jupyterlab/conda/envs/python/lib/python3.6/site-packages (from pandas>=0.24->yfinance) (2.8.1)
Requirement already satisfied: pytz>=2017.2 in /home/jupyterlab/conda/envs/python/lib/python3.6/site-packages (from pandas>=0.24->yfinance) (2021.1)
Requirement already satisfied: six>=1.5 in /home/jupyterlab/conda/envs/python/lib/python3.6/site-packages (from python-dateutil>=2.7.3->pandas>=0.24->yfinance) (1.15.0)
import yfinance as yf
import pandas as pd
Using the yfinance Library to Extract Stock Data
Using the Ticker module we can create an object that will allow us to access functions to extract data. To do this we need to provide the ticker symbol for the stock, here the company is Apple and the ticker symbol is AAPL.

apple = yf.Ticker("AAPL")
Now we can access functions and variables to extract the type of data we need. You can view them and what they represent here https://aroussi.com/post/python-yahoo-finance.

Stock Info
Using the attribute info we can extract information about the stock as a Python dictionary.

apple_info=apple.info
apple_info
{'zip': '95014',
 'sector': 'Technology',
 'fullTimeEmployees': 147000,
 'longBusinessSummary': 'Apple Inc. designs, manufactures, and markets smartphones, personal computers, tablets, wearables, and accessories worldwide. It also sells various related services. The company offers iPhone, a line of smartphones; Mac, a line of personal computers; iPad, a line of multi-purpose tablets; and wearables, home, and accessories comprising AirPods, Apple TV, Apple Watch, Beats products, HomePod, iPod touch, and other Apple-branded and third-party accessories. It also provides AppleCare support services; cloud services store services; and operates various platforms, including the App Store, that allow customers to discover and download applications and digital content, such as books, music, video, games, and podcasts. In addition, the company offers various services, such as Apple Arcade, a game subscription service; Apple Music, which offers users a curated listening experience with on-demand radio stations; Apple News+, a subscription news and magazine service; Apple TV+, which offers exclusive original content; Apple Card, a co-branded credit card; and Apple Pay, a cashless payment service, as well as licenses its intellectual property. The company serves consumers, and small and mid-sized businesses; and the education, enterprise, and government markets. It sells and delivers third-party applications for its products through the App Store. The company also sells its products through its retail and online stores, and direct sales force; and third-party cellular network carriers, wholesalers, retailers, and resellers. Apple Inc. was founded in 1977 and is headquartered in Cupertino, California.',
 'city': 'Cupertino',
 'phone': '408-996-1010',
 'state': 'CA',
 'country': 'United States',
 'companyOfficers': [],
 'website': 'http://www.apple.com',
 'maxAge': 1,
 'address1': 'One Apple Park Way',
 'industry': 'Consumer Electronics',
 'ebitdaMargins': 0.31955,
 'profitMargins': 0.25004,
 'grossMargins': 0.41005,
 'operatingCashflow': 104414003200,
 'revenueGrowth': 0.364,
 'operatingMargins': 0.28788,
 'ebitda': 110934999040,
 'targetLowPrice': 132,
 'recommendationKey': 'buy',
 'grossProfits': 104956000000,
 'freeCashflow': 80625876992,
 'targetMedianPrice': 168,
 'currentPrice': 154.3,
 'earningsGrowth': 1,
 'currentRatio': 1.062,
 'returnOnAssets': 0.19302,
 'numberOfAnalystOpinions': 42,
 'targetMeanPrice': 166.23,
 'debtToEquity': 210.782,
 'returnOnEquity': 1.27125,
 'targetHighPrice': 190,
 'totalCash': 61696000000,
 'totalDebt': 135491002368,
 'totalRevenue': 347155005440,
 'totalCashPerShare': 3.732,
 'financialCurrency': 'USD',
 'revenuePerShare': 20.61,
 'quickRatio': 0.887,
 'recommendationMean': 1.9,
 'exchange': 'NMS',
 'shortName': 'Apple Inc.',
 'longName': 'Apple Inc.',
 'exchangeTimezoneName': 'America/New_York',
 'exchangeTimezoneShortName': 'EDT',
 'isEsgPopulated': False,
 'gmtOffSetMilliseconds': '-14400000',
 'quoteType': 'EQUITY',
 'symbol': 'AAPL',
 'messageBoardId': 'finmb_24937',
 'market': 'us_market',
 'annualHoldingsTurnover': None,
 'enterpriseToRevenue': 7.529,
 'beta3Year': None,
 'enterpriseToEbitda': 23.56,
 '52WeekChange': 0.3619039,
 'morningStarRiskRating': None,
 'forwardEps': 5.67,
 'revenueQuarterlyGrowth': None,
 'sharesOutstanding': 16530199552,
 'fundInceptionDate': None,
 'annualReportExpenseRatio': None,
 'totalAssets': None,
 'bookValue': 3.882,
 'sharesShort': 93105968,
 'sharesPercentSharesOut': 0.0056,
 'fundFamily': None,
 'lastFiscalYearEnd': 1601078400,
 'heldPercentInstitutions': 0.58429,
 'netIncomeToCommon': 86801997824,
 'trailingEps': 5.108,
 'lastDividendValue': None,
 'SandP52WeekChange': 0.36169505,
 'priceToBook': 39.747555,
 'heldPercentInsiders': 0.00071000005,
 'nextFiscalYearEnd': 1664150400,
 'yield': None,
 'mostRecentQuarter': 1624665600,
 'shortRatio': 1.19,
 'sharesShortPreviousMonthDate': 1626307200,
 'floatShares': 16513305231,
 'beta': 1.202797,
 'enterpriseValue': 2613655109632,
 'priceHint': 2,
 'threeYearAverageReturn': None,
 'lastSplitDate': None,
 'lastSplitFactor': None,
 'legalType': None,
 'lastDividendDate': None,
 'morningStarOverallRating': None,
 'earningsQuarterlyGrowth': 0.932,
 'priceToSalesTrailing12Months': 7.3471785,
 'dateShortInterest': 1628812800,
 'pegRatio': 1.4,
 'ytdReturn': None,
 'forwardPE': 27.213404,
 'lastCapGain': None,
 'shortPercentOfFloat': 0.0056,
 'sharesShortPriorMonth': 96355309,
 'impliedSharesOutstanding': None,
 'category': None,
 'fiveYearAverageReturn': None,
 'previousClose': 153.65,
 'regularMarketOpen': 153.76,
 'twoHundredDayAverage': 133.73535,
 'trailingAnnualDividendYield': 0.005434429,
 'payoutRatio': 0.16309999,
 'volume24Hr': None,
 'regularMarketDayHigh': 154.63,
 'navPrice': None,
 'averageDailyVolume10Day': 70314971,
 'regularMarketPreviousClose': 153.65,
 'fiftyDayAverage': 147.83029,
 'trailingAnnualDividendRate': 0.835,
 'open': 153.76,
 'toCurrency': None,
 'averageVolume10days': 70314971,
 'expireDate': None,
 'algorithm': None,
 'dividendRate': 0.88,
 'exDividendDate': 1628208000,
 'circulatingSupply': None,
 'startDate': None,
 'regularMarketDayLow': 153.1,
 'currency': 'USD',
 'trailingPE': 30.20752,
 'regularMarketVolume': 57866066,
 'lastMarket': None,
 'maxSupply': None,
 'openInterest': None,
 'marketCap': 2550609739776,
 'volumeAllCurrencies': None,
 'strikePrice': None,
 'averageVolume': 77103912,
 'dayLow': 153.1,
 'ask': 154.33,
 'askSize': 1000,
 'volume': 57866066,
 'fiftyTwoWeekHigh': 154.98,
 'fromCurrency': None,
 'fiveYearAvgDividendYield': 1.27,
 'fiftyTwoWeekLow': 103.1,
 'bid': 154.29,
 'tradeable': False,
 'dividendYield': 0.0057,
 'bidSize': 1300,
 'dayHigh': 154.63,
 'regularMarketPrice': 154.3,
 'logo_url': 'https://logo.clearbit.com/apple.com'}
We can get the 'country' using the key country

apple_info['country']
'United States'
Extracting Share Price
A share is the single smallest part of a company's stock that you can buy, the prices of these shares fluctuate over time. Using the history() method we can get the share price of the stock over a certain period of time. Using the period parameter we can set how far back from the present to get data. The options for period are 1 day (1d), 5d, 1 month (1mo) , 3mo, 6mo, 1 year (1y), 2y, 5y, 10y, ytd, and max.

apple_share_price_data = apple.history(period="max")
The format that the data is returned in is a Pandas DataFrame. With the Date as the index the share Open, High, Low, Close, Volume, and Stock Splits are given for each day.

apple_share_price_data.head()
Open	High	Low	Close	Volume	Dividends	Stock Splits
Date							
1980-12-12	0.100600	0.101037	0.100600	0.100600	469033600	0.0	0.0
1980-12-15	0.095789	0.095789	0.095352	0.095352	175884800	0.0	0.0
1980-12-16	0.088790	0.088790	0.088353	0.088353	105728000	0.0	0.0
1980-12-17	0.090540	0.090977	0.090540	0.090540	86441600	0.0	0.0
1980-12-18	0.093165	0.093602	0.093165	0.093165	73449600	0.0	0.0
We can reset the index of the DataFrame with the reset_index function. We also set the inplace paramter to True so the change takes place to the DataFrame itself.

apple_share_price_data.reset_index(inplace=True)
We can plot the Open price against the Date:

apple_share_price_data.plot(x="Date", y="Open")
<AxesSubplot:xlabel='Date'>

Extracting Dividends
Dividends are the distribution of a companys profits to shareholders. In this case they are defined as an amount of money returned per share an investor owns. Using the variable dividends we can get a dataframe of the data. The period of the data is given by the period defined in the 'history` function.

apple.dividends
Date
1987-05-11    0.000536
1987-08-10    0.000536
1987-11-17    0.000714
1988-02-12    0.000714
1988-05-16    0.000714
                ...   
2020-08-07    0.205000
2020-11-06    0.205000
2021-02-05    0.205000
2021-05-07    0.220000
2021-08-06    0.220000
Name: Dividends, Length: 72, dtype: float64
We can plot the dividends overtime:

apple.dividends.plot()
<AxesSubplot:xlabel='Date'>

Exercise
Now using the Ticker module create an object for AMD (Advanced Micro Devices) with the ticker symbol is AMD called; name the object amd.

amd = yf.Ticker("AMD")
Question 1 Use the key 'country' to find the country the stock belongs to, remember it as it will be a quiz question.

amd_info = amd.info
amd_info['country']
'United States'
Question 2 Use the key 'sector' to find the sector the stock belongs to, remember it as it will be a quiz question.

amd_info['sector']
'Technology'
Question 3 Obtain stock data for AMD using the history function, set the period to max. Find the Volume traded on the first day (first row).

amd_price_data = amd.history(period = "max")
print(amd_price_data)

amd_price_data["Volume"][0]
                  Open        High         Low       Close    Volume  \
Date                                                                   
1980-03-17    0.000000    3.302083    3.125000    3.145833    219600   
1980-03-18    0.000000    3.125000    2.937500    3.031250    727200   
1980-03-19    0.000000    3.083333    3.020833    3.041667    295200   
1980-03-20    0.000000    3.062500    3.010417    3.010417    159600   
1980-03-21    0.000000    3.020833    2.906250    2.916667    130800   
...                ...         ...         ...         ...       ...   
2021-08-30  112.610001  114.489998  111.260002  111.320000  56130500   
2021-08-31  111.260002  111.260002  109.029999  110.720001  49339000   
2021-09-01  111.300003  111.849998  109.849998  109.989998  38579600   
2021-09-02  110.320000  110.879997  108.769997  109.199997  40108800   
2021-09-03  108.849998  111.169998  108.500000  109.919998  42605800   

            Dividends  Stock Splits  
Date                                 
1980-03-17          0           0.0  
1980-03-18          0           0.0  
1980-03-19          0           0.0  
1980-03-20          0           0.0  
1980-03-21          0           0.0  
...               ...           ...  
2021-08-30          0           0.0  
2021-08-31          0           0.0  
2021-09-01          0           0.0  
2021-09-02          0           0.0  
2021-09-03          0           0.0  

[10458 rows x 7 columns]
219600
About the Authors:
Joseph Santarcangelo has a PhD in Electrical Engineering, his research focused on using machine learning, signal processing, and computer vision to determine how videos impact human cognition. Joseph has been working for IBM since he completed his PhD.

Azim Hirjani

Change Log
Date (YYYY-MM-DD)	Version	Changed By	Change Description
2020-11-10	1.1	Malika Singla	Deleted the Optional part
2020-08-27	1.0	Malika Singla	Added lab to GitLab
© IBM Corporation 2020. All rights reserved
